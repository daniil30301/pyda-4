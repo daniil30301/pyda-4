{
 "cells": [
  {
   "cell_type": "code",
   "execution_count": 1,
   "metadata": {},
   "outputs": [],
   "source": [
    "from datetime import datetime\n",
    "from datetime import timedelta"
   ]
  },
  {
   "cell_type": "code",
   "execution_count": 2,
   "metadata": {},
   "outputs": [],
   "source": [
    "def date_range(start_date, end_date):\n",
    "    try:\n",
    "        start_date_d = datetime.strptime(start_date, '%Y.%m.%d')\n",
    "        end_date_d = datetime.strptime(end_date, '%Y.%m.%d')\n",
    "    except ValueError:\n",
    "        return []\n",
    "    \n",
    "    if start_date > end_date:\n",
    "        return []\n",
    "    \n",
    "    while start_date_d <= end_date_d:\n",
    "        print(start_date_d.strftime('%Y.%m.%d'))\n",
    "        \n",
    "        start_date_d += timedelta(days=1)"
   ]
  },
  {
   "cell_type": "code",
   "execution_count": 3,
   "metadata": {},
   "outputs": [
    {
     "name": "stdout",
     "output_type": "stream",
     "text": [
      "2019.03.02\n",
      "2019.03.03\n",
      "2019.03.04\n",
      "2019.03.05\n",
      "2019.03.06\n",
      "2019.03.07\n",
      "2019.03.08\n",
      "2019.03.09\n",
      "2019.03.10\n",
      "2019.03.11\n",
      "2019.03.12\n",
      "2019.03.13\n",
      "2019.03.14\n",
      "2019.03.15\n",
      "2019.03.16\n",
      "2019.03.17\n",
      "2019.03.18\n",
      "2019.03.19\n",
      "2019.03.20\n",
      "2019.03.21\n",
      "2019.03.22\n",
      "2019.03.23\n",
      "2019.03.24\n",
      "2019.03.25\n",
      "2019.03.26\n",
      "2019.03.27\n",
      "2019.03.28\n",
      "2019.03.29\n",
      "2019.03.30\n",
      "2019.03.31\n",
      "2019.04.01\n",
      "2019.04.02\n",
      "2019.04.03\n",
      "2019.04.04\n"
     ]
    }
   ],
   "source": [
    "date_range('2019.03.02', '2019.04.04')"
   ]
  }
 ],
 "metadata": {
  "kernelspec": {
   "display_name": "Python 3",
   "language": "python",
   "name": "python3"
  },
  "language_info": {
   "codemirror_mode": {
    "name": "ipython",
    "version": 3
   },
   "file_extension": ".py",
   "mimetype": "text/x-python",
   "name": "python",
   "nbconvert_exporter": "python",
   "pygments_lexer": "ipython3",
   "version": "3.7.3"
  }
 },
 "nbformat": 4,
 "nbformat_minor": 2
}
