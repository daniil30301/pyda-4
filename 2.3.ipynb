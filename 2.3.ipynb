{
 "cells": [
  {
   "cell_type": "code",
   "execution_count": 1,
   "metadata": {},
   "outputs": [],
   "source": [
    "queries = [\n",
    "    'смотреть сериалы онлайн',\n",
    "    'новости спорта',\n",
    "    'афиша кино',\n",
    "    'курс доллара',\n",
    "    'сериалы этим летом',\n",
    "    'курс по питону',\n",
    "    'сериалы про спорт',\n",
    "]"
   ]
  },
  {
   "cell_type": "code",
   "execution_count": 2,
   "metadata": {},
   "outputs": [
    {
     "name": "stdout",
     "output_type": "stream",
     "text": [
      "[['смотреть', 'сериалы', 'онлайн'], ['новости', 'спорта'], ['афиша', 'кино'], ['курс', 'доллара'], ['сериалы', 'этим', 'летом'], ['курс', 'по', 'питону'], ['сериалы', 'про', 'спорт']]\n"
     ]
    }
   ],
   "source": [
    "data = []\n",
    "for i in queries:\n",
    "    data.append(i.split())\n",
    "print(data)"
   ]
  },
  {
   "cell_type": "code",
   "execution_count": 3,
   "metadata": {},
   "outputs": [
    {
     "name": "stdout",
     "output_type": "stream",
     "text": [
      "4\n",
      "7\n",
      "7\n",
      "7\n",
      "4\n",
      "4\n",
      "4\n"
     ]
    }
   ],
   "source": [
    "j = []\n",
    "for x in data:\n",
    "    if len(x) == 2:\n",
    "        j = 100//len(queries)//2\n",
    "    elif len(x) == 3:\n",
    "        j = 100//len(queries)//3\n",
    "    elif len(x) == 1:\n",
    "        j = 100//len(queries)//1\n",
    "    print(j)"
   ]
  }
 ],
 "metadata": {
  "kernelspec": {
   "display_name": "Python 3",
   "language": "python",
   "name": "python3"
  },
  "language_info": {
   "codemirror_mode": {
    "name": "ipython",
    "version": 3
   },
   "file_extension": ".py",
   "mimetype": "text/x-python",
   "name": "python",
   "nbconvert_exporter": "python",
   "pygments_lexer": "ipython3",
   "version": "3.7.3"
  }
 },
 "nbformat": 4,
 "nbformat_minor": 2
}
