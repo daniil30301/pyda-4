{
  "nbformat": 4,
  "nbformat_minor": 0,
  "metadata": {
    "colab": {
      "name": "Boston.ipynb",
      "version": "0.3.2",
      "provenance": [],
      "collapsed_sections": []
    },
    "kernelspec": {
      "name": "python3",
      "display_name": "Python 3"
    }
  },
  "cells": [
    {
      "cell_type": "code",
      "metadata": {
        "id": "pPPNUFIgmzDw",
        "colab_type": "code",
        "colab": {}
      },
      "source": [
        "import pandas as pd\n",
        "\n",
        "from sklearn.model_selection import train_test_split\n",
        "from sklearn.preprocessing import StandardScaler\n",
        "\n",
        "from sklearn.tree import DecisionTreeRegressor\n",
        "from sklearn.svm import  SVR\n",
        "from sklearn.linear_model import LinearRegression\n",
        "\n",
        "from sklearn.metrics import mean_squared_error\n",
        "from sklearn.metrics import r2_score\n",
        "from sklearn.metrics import mean_absolute_error"
      ],
      "execution_count": 0,
      "outputs": []
    },
    {
      "cell_type": "code",
      "metadata": {
        "id": "RebO1ohHm6Zr",
        "colab_type": "code",
        "colab": {}
      },
      "source": [
        "boston = pd.read_csv('homework.csv')"
      ],
      "execution_count": 0,
      "outputs": []
    },
    {
      "cell_type": "code",
      "metadata": {
        "id": "7MKlZ-zHm_G5",
        "colab_type": "code",
        "outputId": "545ffeac-7bad-4d01-b54a-4c27b73dd675",
        "colab": {
          "base_uri": "https://localhost:8080/",
          "height": 195
        }
      },
      "source": [
        "boston.head()"
      ],
      "execution_count": 98,
      "outputs": [
        {
          "output_type": "execute_result",
          "data": {
            "text/html": [
              "<div>\n",
              "<style scoped>\n",
              "    .dataframe tbody tr th:only-of-type {\n",
              "        vertical-align: middle;\n",
              "    }\n",
              "\n",
              "    .dataframe tbody tr th {\n",
              "        vertical-align: top;\n",
              "    }\n",
              "\n",
              "    .dataframe thead th {\n",
              "        text-align: right;\n",
              "    }\n",
              "</style>\n",
              "<table border=\"1\" class=\"dataframe\">\n",
              "  <thead>\n",
              "    <tr style=\"text-align: right;\">\n",
              "      <th></th>\n",
              "      <th>ID</th>\n",
              "      <th>crim</th>\n",
              "      <th>zn</th>\n",
              "      <th>indus</th>\n",
              "      <th>chas</th>\n",
              "      <th>nox</th>\n",
              "      <th>rm</th>\n",
              "      <th>age</th>\n",
              "      <th>dis</th>\n",
              "      <th>rad</th>\n",
              "      <th>tax</th>\n",
              "      <th>ptratio</th>\n",
              "      <th>black</th>\n",
              "      <th>lstat</th>\n",
              "      <th>medv</th>\n",
              "    </tr>\n",
              "  </thead>\n",
              "  <tbody>\n",
              "    <tr>\n",
              "      <th>0</th>\n",
              "      <td>1</td>\n",
              "      <td>0.00632</td>\n",
              "      <td>18.0</td>\n",
              "      <td>2.31</td>\n",
              "      <td>0</td>\n",
              "      <td>0.538</td>\n",
              "      <td>6.575</td>\n",
              "      <td>65.2</td>\n",
              "      <td>4.0900</td>\n",
              "      <td>1</td>\n",
              "      <td>296</td>\n",
              "      <td>15.3</td>\n",
              "      <td>396.90</td>\n",
              "      <td>4.98</td>\n",
              "      <td>24.0</td>\n",
              "    </tr>\n",
              "    <tr>\n",
              "      <th>1</th>\n",
              "      <td>2</td>\n",
              "      <td>0.02731</td>\n",
              "      <td>0.0</td>\n",
              "      <td>7.07</td>\n",
              "      <td>0</td>\n",
              "      <td>0.469</td>\n",
              "      <td>6.421</td>\n",
              "      <td>78.9</td>\n",
              "      <td>4.9671</td>\n",
              "      <td>2</td>\n",
              "      <td>242</td>\n",
              "      <td>17.8</td>\n",
              "      <td>396.90</td>\n",
              "      <td>9.14</td>\n",
              "      <td>21.6</td>\n",
              "    </tr>\n",
              "    <tr>\n",
              "      <th>2</th>\n",
              "      <td>4</td>\n",
              "      <td>0.03237</td>\n",
              "      <td>0.0</td>\n",
              "      <td>2.18</td>\n",
              "      <td>0</td>\n",
              "      <td>0.458</td>\n",
              "      <td>6.998</td>\n",
              "      <td>45.8</td>\n",
              "      <td>6.0622</td>\n",
              "      <td>3</td>\n",
              "      <td>222</td>\n",
              "      <td>18.7</td>\n",
              "      <td>394.63</td>\n",
              "      <td>2.94</td>\n",
              "      <td>33.4</td>\n",
              "    </tr>\n",
              "    <tr>\n",
              "      <th>3</th>\n",
              "      <td>5</td>\n",
              "      <td>0.06905</td>\n",
              "      <td>0.0</td>\n",
              "      <td>2.18</td>\n",
              "      <td>0</td>\n",
              "      <td>0.458</td>\n",
              "      <td>7.147</td>\n",
              "      <td>54.2</td>\n",
              "      <td>6.0622</td>\n",
              "      <td>3</td>\n",
              "      <td>222</td>\n",
              "      <td>18.7</td>\n",
              "      <td>396.90</td>\n",
              "      <td>5.33</td>\n",
              "      <td>36.2</td>\n",
              "    </tr>\n",
              "    <tr>\n",
              "      <th>4</th>\n",
              "      <td>7</td>\n",
              "      <td>0.08829</td>\n",
              "      <td>12.5</td>\n",
              "      <td>7.87</td>\n",
              "      <td>0</td>\n",
              "      <td>0.524</td>\n",
              "      <td>6.012</td>\n",
              "      <td>66.6</td>\n",
              "      <td>5.5605</td>\n",
              "      <td>5</td>\n",
              "      <td>311</td>\n",
              "      <td>15.2</td>\n",
              "      <td>395.60</td>\n",
              "      <td>12.43</td>\n",
              "      <td>22.9</td>\n",
              "    </tr>\n",
              "  </tbody>\n",
              "</table>\n",
              "</div>"
            ],
            "text/plain": [
              "   ID     crim    zn  indus  chas  ...  tax  ptratio   black  lstat  medv\n",
              "0   1  0.00632  18.0   2.31     0  ...  296     15.3  396.90   4.98  24.0\n",
              "1   2  0.02731   0.0   7.07     0  ...  242     17.8  396.90   9.14  21.6\n",
              "2   4  0.03237   0.0   2.18     0  ...  222     18.7  394.63   2.94  33.4\n",
              "3   5  0.06905   0.0   2.18     0  ...  222     18.7  396.90   5.33  36.2\n",
              "4   7  0.08829  12.5   7.87     0  ...  311     15.2  395.60  12.43  22.9\n",
              "\n",
              "[5 rows x 15 columns]"
            ]
          },
          "metadata": {
            "tags": []
          },
          "execution_count": 98
        }
      ]
    },
    {
      "cell_type": "code",
      "metadata": {
        "id": "v_MIXUFbydyS",
        "colab_type": "code",
        "colab": {}
      },
      "source": [
        "boston_filtered = boston[['crim', 'zn', 'indus', 'chas', 'nox', 'rm', 'age', 'dis', 'rad', 'tax', 'ptratio', 'black', 'lstat', 'medv']]\n",
        "boston_f = boston[['crim', 'zn', 'indus', 'chas', 'nox', 'rm', 'age', 'dis', 'rad', 'tax', 'ptratio', 'black', 'lstat', 'medv']]"
      ],
      "execution_count": 0,
      "outputs": []
    },
    {
      "cell_type": "code",
      "metadata": {
        "id": "LFt5JHNWzxkr",
        "colab_type": "code",
        "colab": {}
      },
      "source": [
        "sc = StandardScaler()\n",
        "boston_filtered = sc.fit_transform(boston_filtered)\n",
        "\n",
        "'''\\\n",
        "Привести данные к нормальному распределению.\\\n",
        "Среднее - 0.\\\n",
        "'''"
      ],
      "execution_count": 0,
      "outputs": []
    },
    {
      "cell_type": "code",
      "metadata": {
        "id": "UT8jWLzCz0WU",
        "colab_type": "code",
        "colab": {}
      },
      "source": [
        "boston_filtered = pd.DataFrame(boston_filtered, columns = boston_f.columns)\n",
        "\n",
        "'''\\\n",
        "Сложить данные в pandas.\\\n",
        "'''"
      ],
      "execution_count": 0,
      "outputs": []
    },
    {
      "cell_type": "code",
      "metadata": {
        "id": "D6n4_N4Y1Zde",
        "colab_type": "code",
        "outputId": "316c9d48-5dac-4711-9e02-e2baca3b86f8",
        "colab": {
          "base_uri": "https://localhost:8080/",
          "height": 215
        }
      },
      "source": [
        "boston_filtered.head()"
      ],
      "execution_count": 102,
      "outputs": [
        {
          "output_type": "execute_result",
          "data": {
            "text/html": [
              "<div>\n",
              "<style scoped>\n",
              "    .dataframe tbody tr th:only-of-type {\n",
              "        vertical-align: middle;\n",
              "    }\n",
              "\n",
              "    .dataframe tbody tr th {\n",
              "        vertical-align: top;\n",
              "    }\n",
              "\n",
              "    .dataframe thead th {\n",
              "        text-align: right;\n",
              "    }\n",
              "</style>\n",
              "<table border=\"1\" class=\"dataframe\">\n",
              "  <thead>\n",
              "    <tr style=\"text-align: right;\">\n",
              "      <th></th>\n",
              "      <th>crim</th>\n",
              "      <th>zn</th>\n",
              "      <th>indus</th>\n",
              "      <th>chas</th>\n",
              "      <th>nox</th>\n",
              "      <th>rm</th>\n",
              "      <th>age</th>\n",
              "      <th>dis</th>\n",
              "      <th>rad</th>\n",
              "      <th>tax</th>\n",
              "      <th>ptratio</th>\n",
              "      <th>black</th>\n",
              "      <th>lstat</th>\n",
              "      <th>medv</th>\n",
              "    </tr>\n",
              "  </thead>\n",
              "  <tbody>\n",
              "    <tr>\n",
              "      <th>0</th>\n",
              "      <td>-0.456875</td>\n",
              "      <td>0.322906</td>\n",
              "      <td>-1.285631</td>\n",
              "      <td>-0.25278</td>\n",
              "      <td>-0.166787</td>\n",
              "      <td>0.440154</td>\n",
              "      <td>-0.107736</td>\n",
              "      <td>0.192133</td>\n",
              "      <td>-0.98907</td>\n",
              "      <td>-0.664062</td>\n",
              "      <td>-1.465171</td>\n",
              "      <td>0.432990</td>\n",
              "      <td>-1.067772</td>\n",
              "      <td>0.134419</td>\n",
              "    </tr>\n",
              "    <tr>\n",
              "      <th>1</th>\n",
              "      <td>-0.454016</td>\n",
              "      <td>-0.472123</td>\n",
              "      <td>-0.604425</td>\n",
              "      <td>-0.25278</td>\n",
              "      <td>-0.767928</td>\n",
              "      <td>0.221060</td>\n",
              "      <td>0.379963</td>\n",
              "      <td>0.635528</td>\n",
              "      <td>-0.87451</td>\n",
              "      <td>-0.980620</td>\n",
              "      <td>-0.301616</td>\n",
              "      <td>0.432990</td>\n",
              "      <td>-0.478299</td>\n",
              "      <td>-0.127599</td>\n",
              "    </tr>\n",
              "    <tr>\n",
              "      <th>2</th>\n",
              "      <td>-0.453327</td>\n",
              "      <td>-0.472123</td>\n",
              "      <td>-1.304235</td>\n",
              "      <td>-0.25278</td>\n",
              "      <td>-0.863762</td>\n",
              "      <td>1.041952</td>\n",
              "      <td>-0.798347</td>\n",
              "      <td>1.189127</td>\n",
              "      <td>-0.75995</td>\n",
              "      <td>-1.097863</td>\n",
              "      <td>0.117264</td>\n",
              "      <td>0.406733</td>\n",
              "      <td>-1.356840</td>\n",
              "      <td>1.160655</td>\n",
              "    </tr>\n",
              "    <tr>\n",
              "      <th>3</th>\n",
              "      <td>-0.448330</td>\n",
              "      <td>-0.472123</td>\n",
              "      <td>-1.304235</td>\n",
              "      <td>-0.25278</td>\n",
              "      <td>-0.863762</td>\n",
              "      <td>1.253933</td>\n",
              "      <td>-0.499320</td>\n",
              "      <td>1.189127</td>\n",
              "      <td>-0.75995</td>\n",
              "      <td>-1.097863</td>\n",
              "      <td>0.117264</td>\n",
              "      <td>0.432990</td>\n",
              "      <td>-1.018177</td>\n",
              "      <td>1.466342</td>\n",
              "    </tr>\n",
              "    <tr>\n",
              "      <th>4</th>\n",
              "      <td>-0.445709</td>\n",
              "      <td>0.079980</td>\n",
              "      <td>-0.489936</td>\n",
              "      <td>-0.25278</td>\n",
              "      <td>-0.288758</td>\n",
              "      <td>-0.360821</td>\n",
              "      <td>-0.057898</td>\n",
              "      <td>0.935505</td>\n",
              "      <td>-0.53083</td>\n",
              "      <td>-0.576130</td>\n",
              "      <td>-1.511713</td>\n",
              "      <td>0.417953</td>\n",
              "      <td>-0.012106</td>\n",
              "      <td>0.014327</td>\n",
              "    </tr>\n",
              "  </tbody>\n",
              "</table>\n",
              "</div>"
            ],
            "text/plain": [
              "       crim        zn     indus  ...     black     lstat      medv\n",
              "0 -0.456875  0.322906 -1.285631  ...  0.432990 -1.067772  0.134419\n",
              "1 -0.454016 -0.472123 -0.604425  ...  0.432990 -0.478299 -0.127599\n",
              "2 -0.453327 -0.472123 -1.304235  ...  0.406733 -1.356840  1.160655\n",
              "3 -0.448330 -0.472123 -1.304235  ...  0.432990 -1.018177  1.466342\n",
              "4 -0.445709  0.079980 -0.489936  ...  0.417953 -0.012106  0.014327\n",
              "\n",
              "[5 rows x 14 columns]"
            ]
          },
          "metadata": {
            "tags": []
          },
          "execution_count": 102
        }
      ]
    },
    {
      "cell_type": "code",
      "metadata": {
        "id": "im5WupWWzV1n",
        "colab_type": "code",
        "colab": {}
      },
      "source": [
        "X, y = boston_filtered[['crim', 'zn', 'indus', 'chas', 'nox', 'rm', 'age', 'dis', 'rad', 'tax', 'ptratio', 'black', 'lstat']], boston_filtered['medv']\n",
        "\n",
        "'''\\\n",
        "Х - данные на основании которых делается вывод.\\\n",
        "у - результат.\\\n",
        "'''"
      ],
      "execution_count": 0,
      "outputs": []
    },
    {
      "cell_type": "code",
      "metadata": {
        "id": "wTzUatvTzt-8",
        "colab_type": "code",
        "colab": {}
      },
      "source": [
        "X_train, X_test, y_train, y_test = train_test_split(X, y, test_size=0.2)\n",
        "\n",
        "'''\\\n",
        "Разбить данные на данные для обучения и для теста.\\\n",
        "'''"
      ],
      "execution_count": 0,
      "outputs": []
    },
    {
      "cell_type": "code",
      "metadata": {
        "id": "3konD5EPz29Q",
        "colab_type": "code",
        "outputId": "e3e1876b-ab4f-43d7-ddaa-44edb7be4cac",
        "colab": {
          "base_uri": "https://localhost:8080/",
          "height": 195
        }
      },
      "source": [
        "X_train.head()"
      ],
      "execution_count": 105,
      "outputs": [
        {
          "output_type": "execute_result",
          "data": {
            "text/html": [
              "<div>\n",
              "<style scoped>\n",
              "    .dataframe tbody tr th:only-of-type {\n",
              "        vertical-align: middle;\n",
              "    }\n",
              "\n",
              "    .dataframe tbody tr th {\n",
              "        vertical-align: top;\n",
              "    }\n",
              "\n",
              "    .dataframe thead th {\n",
              "        text-align: right;\n",
              "    }\n",
              "</style>\n",
              "<table border=\"1\" class=\"dataframe\">\n",
              "  <thead>\n",
              "    <tr style=\"text-align: right;\">\n",
              "      <th></th>\n",
              "      <th>crim</th>\n",
              "      <th>zn</th>\n",
              "      <th>indus</th>\n",
              "      <th>chas</th>\n",
              "      <th>nox</th>\n",
              "      <th>rm</th>\n",
              "      <th>age</th>\n",
              "      <th>dis</th>\n",
              "      <th>rad</th>\n",
              "      <th>tax</th>\n",
              "      <th>ptratio</th>\n",
              "      <th>black</th>\n",
              "      <th>lstat</th>\n",
              "    </tr>\n",
              "  </thead>\n",
              "  <tbody>\n",
              "    <tr>\n",
              "      <th>280</th>\n",
              "      <td>0.302501</td>\n",
              "      <td>-0.472123</td>\n",
              "      <td>0.974084</td>\n",
              "      <td>-0.25278</td>\n",
              "      <td>1.357845</td>\n",
              "      <td>0.242400</td>\n",
              "      <td>0.700350</td>\n",
              "      <td>-0.704768</td>\n",
              "      <td>1.645813</td>\n",
              "      <td>1.504941</td>\n",
              "      <td>0.815397</td>\n",
              "      <td>-2.998990</td>\n",
              "      <td>0.524937</td>\n",
              "    </tr>\n",
              "    <tr>\n",
              "      <th>166</th>\n",
              "      <td>-0.440359</td>\n",
              "      <td>0.852925</td>\n",
              "      <td>-0.910681</td>\n",
              "      <td>-0.25278</td>\n",
              "      <td>-1.125128</td>\n",
              "      <td>0.181224</td>\n",
              "      <td>-2.151090</td>\n",
              "      <td>1.681153</td>\n",
              "      <td>-0.416270</td>\n",
              "      <td>-0.640614</td>\n",
              "      <td>-0.860122</td>\n",
              "      <td>0.176323</td>\n",
              "      <td>-1.038015</td>\n",
              "    </tr>\n",
              "    <tr>\n",
              "      <th>272</th>\n",
              "      <td>1.151301</td>\n",
              "      <td>-0.472123</td>\n",
              "      <td>0.974084</td>\n",
              "      <td>-0.25278</td>\n",
              "      <td>1.401406</td>\n",
              "      <td>0.794404</td>\n",
              "      <td>0.294527</td>\n",
              "      <td>-0.968550</td>\n",
              "      <td>1.645813</td>\n",
              "      <td>1.504941</td>\n",
              "      <td>0.815397</td>\n",
              "      <td>-3.597456</td>\n",
              "      <td>1.448821</td>\n",
              "    </tr>\n",
              "    <tr>\n",
              "      <th>79</th>\n",
              "      <td>-0.439949</td>\n",
              "      <td>-0.472123</td>\n",
              "      <td>-0.183680</td>\n",
              "      <td>-0.25278</td>\n",
              "      <td>-0.088378</td>\n",
              "      <td>-0.559997</td>\n",
              "      <td>0.173492</td>\n",
              "      <td>-0.623025</td>\n",
              "      <td>-0.416270</td>\n",
              "      <td>0.133193</td>\n",
              "      <td>-0.301616</td>\n",
              "      <td>-0.241007</td>\n",
              "      <td>0.404492</td>\n",
              "    </tr>\n",
              "    <tr>\n",
              "      <th>221</th>\n",
              "      <td>-0.452644</td>\n",
              "      <td>-0.472123</td>\n",
              "      <td>-0.873473</td>\n",
              "      <td>-0.25278</td>\n",
              "      <td>-0.367168</td>\n",
              "      <td>0.063141</td>\n",
              "      <td>-1.058216</td>\n",
              "      <td>1.389415</td>\n",
              "      <td>-0.530830</td>\n",
              "      <td>-1.086139</td>\n",
              "      <td>0.815397</td>\n",
              "      <td>0.346239</td>\n",
              "      <td>-0.816962</td>\n",
              "    </tr>\n",
              "  </tbody>\n",
              "</table>\n",
              "</div>"
            ],
            "text/plain": [
              "         crim        zn     indus  ...   ptratio     black     lstat\n",
              "280  0.302501 -0.472123  0.974084  ...  0.815397 -2.998990  0.524937\n",
              "166 -0.440359  0.852925 -0.910681  ... -0.860122  0.176323 -1.038015\n",
              "272  1.151301 -0.472123  0.974084  ...  0.815397 -3.597456  1.448821\n",
              "79  -0.439949 -0.472123 -0.183680  ... -0.301616 -0.241007  0.404492\n",
              "221 -0.452644 -0.472123 -0.873473  ...  0.815397  0.346239 -0.816962\n",
              "\n",
              "[5 rows x 13 columns]"
            ]
          },
          "metadata": {
            "tags": []
          },
          "execution_count": 105
        }
      ]
    },
    {
      "cell_type": "code",
      "metadata": {
        "id": "aFAwElhEz_JE",
        "colab_type": "code",
        "colab": {}
      },
      "source": [
        "linear = LinearRegression()"
      ],
      "execution_count": 0,
      "outputs": []
    },
    {
      "cell_type": "code",
      "metadata": {
        "id": "FmHEe8pk2qC5",
        "colab_type": "code",
        "outputId": "4f8dfb12-a94a-43fd-c1fb-de93c34478ff",
        "colab": {
          "base_uri": "https://localhost:8080/",
          "height": 34
        }
      },
      "source": [
        "linear.fit(X_train, y_train)\n",
        "\n",
        "'''\\\n",
        "Обучить\\\n",
        "'''"
      ],
      "execution_count": 107,
      "outputs": [
        {
          "output_type": "execute_result",
          "data": {
            "text/plain": [
              "LinearRegression(copy_X=True, fit_intercept=True, n_jobs=None, normalize=False)"
            ]
          },
          "metadata": {
            "tags": []
          },
          "execution_count": 107
        }
      ]
    },
    {
      "cell_type": "code",
      "metadata": {
        "id": "C7isyuyr5lBp",
        "colab_type": "code",
        "outputId": "35267fcd-d946-4611-ec1d-c28f6cd9a466",
        "colab": {
          "base_uri": "https://localhost:8080/",
          "height": 34
        }
      },
      "source": [
        "mean_squared_error(y_test, linear.predict(X_test))"
      ],
      "execution_count": 108,
      "outputs": [
        {
          "output_type": "execute_result",
          "data": {
            "text/plain": [
              "0.318732379842"
            ]
          },
          "metadata": {
            "tags": []
          },
          "execution_count": 108
        }
      ]
    },
    {
      "cell_type": "code",
      "metadata": {
        "id": "DZ4Rko9J6DeD",
        "colab_type": "code",
        "outputId": "5634c3b6-3ece-4e01-bbbd-01ae8926ca92",
        "colab": {
          "base_uri": "https://localhost:8080/",
          "height": 34
        }
      },
      "source": [
        "mean_absolute_error(y_test, linear.predict(X_test))"
      ],
      "execution_count": 109,
      "outputs": [
        {
          "output_type": "execute_result",
          "data": {
            "text/plain": [
              "0.3869290133028207"
            ]
          },
          "metadata": {
            "tags": []
          },
          "execution_count": 109
        }
      ]
    },
    {
      "cell_type": "code",
      "metadata": {
        "id": "l6owuHTp6JzK",
        "colab_type": "code",
        "outputId": "c199501b-bc91-4036-fc98-c58b7630ce26",
        "colab": {
          "base_uri": "https://localhost:8080/",
          "height": 34
        }
      },
      "source": [
        "r2_score(y_test, linear.predict(X_test))"
      ],
      "execution_count": 110,
      "outputs": [
        {
          "output_type": "execute_result",
          "data": {
            "text/plain": [
              "0.6432614868013473"
            ]
          },
          "metadata": {
            "tags": []
          },
          "execution_count": 110
        }
      ]
    },
    {
      "cell_type": "code",
      "metadata": {
        "id": "xXTRQooO6Rtg",
        "colab_type": "code",
        "colab": {}
      },
      "source": [
        "svr = SVR()"
      ],
      "execution_count": 0,
      "outputs": []
    },
    {
      "cell_type": "code",
      "metadata": {
        "id": "F_psuEnA67je",
        "colab_type": "code",
        "outputId": "89f7c828-4574-4b1c-b962-f5d9bdf93fef",
        "colab": {
          "base_uri": "https://localhost:8080/",
          "height": 121
        }
      },
      "source": [
        "svr.fit(X_train, y_train)"
      ],
      "execution_count": 112,
      "outputs": [
        {
          "output_type": "stream",
          "text": [
            "/usr/local/lib/python3.6/dist-packages/sklearn/svm/base.py:193: FutureWarning: The default value of gamma will change from 'auto' to 'scale' in version 0.22 to account better for unscaled features. Set gamma explicitly to 'auto' or 'scale' to avoid this warning.\n",
            "  \"avoid this warning.\", FutureWarning)\n"
          ],
          "name": "stderr"
        },
        {
          "output_type": "execute_result",
          "data": {
            "text/plain": [
              "SVR(C=1.0, cache_size=200, coef0=0.0, degree=3, epsilon=0.1,\n",
              "    gamma='auto_deprecated', kernel='rbf', max_iter=-1, shrinking=True,\n",
              "    tol=0.001, verbose=False)"
            ]
          },
          "metadata": {
            "tags": []
          },
          "execution_count": 112
        }
      ]
    },
    {
      "cell_type": "code",
      "metadata": {
        "id": "704S_HEG6_aN",
        "colab_type": "code",
        "outputId": "ac2f1ed1-c80d-45e3-d41e-60d9d716dd65",
        "colab": {
          "base_uri": "https://localhost:8080/",
          "height": 34
        }
      },
      "source": [
        "mean_squared_error(y_test, svr.predict(X_test))"
      ],
      "execution_count": 113,
      "outputs": [
        {
          "output_type": "execute_result",
          "data": {
            "text/plain": [
              "0.3232437344107524"
            ]
          },
          "metadata": {
            "tags": []
          },
          "execution_count": 113
        }
      ]
    },
    {
      "cell_type": "code",
      "metadata": {
        "id": "tlq-9M4N7FMh",
        "colab_type": "code",
        "outputId": "2f5fe792-46c5-4d64-ebb5-d45487c18a04",
        "colab": {
          "base_uri": "https://localhost:8080/",
          "height": 34
        }
      },
      "source": [
        "mean_absolute_error(y_test, svr.predict(X_test))"
      ],
      "execution_count": 114,
      "outputs": [
        {
          "output_type": "execute_result",
          "data": {
            "text/plain": [
              "0.30499739349667065"
            ]
          },
          "metadata": {
            "tags": []
          },
          "execution_count": 114
        }
      ]
    },
    {
      "cell_type": "code",
      "metadata": {
        "id": "xKPm4mwM7ICk",
        "colab_type": "code",
        "outputId": "8e04e69d-dac6-4ddb-bb73-c48ec044c6d1",
        "colab": {
          "base_uri": "https://localhost:8080/",
          "height": 34
        }
      },
      "source": [
        "r2_score(y_test, svr.predict(X_test))"
      ],
      "execution_count": 115,
      "outputs": [
        {
          "output_type": "execute_result",
          "data": {
            "text/plain": [
              "0.6382121914578167"
            ]
          },
          "metadata": {
            "tags": []
          },
          "execution_count": 115
        }
      ]
    },
    {
      "cell_type": "code",
      "metadata": {
        "id": "8EUlNrMO7Ltm",
        "colab_type": "code",
        "colab": {}
      },
      "source": [
        "DTR = DecisionTreeRegressor()"
      ],
      "execution_count": 0,
      "outputs": []
    },
    {
      "cell_type": "code",
      "metadata": {
        "id": "VlWnpF4e7ZQd",
        "colab_type": "code",
        "outputId": "675e60f7-0298-40ae-aa0a-510cafa20099",
        "colab": {
          "base_uri": "https://localhost:8080/",
          "height": 101
        }
      },
      "source": [
        "DTR.fit(X_train, y_train)"
      ],
      "execution_count": 117,
      "outputs": [
        {
          "output_type": "execute_result",
          "data": {
            "text/plain": [
              "DecisionTreeRegressor(criterion='mse', max_depth=None, max_features=None,\n",
              "                      max_leaf_nodes=None, min_impurity_decrease=0.0,\n",
              "                      min_impurity_split=None, min_samples_leaf=1,\n",
              "                      min_samples_split=2, min_weight_fraction_leaf=0.0,\n",
              "                      presort=False, random_state=None, splitter='best')"
            ]
          },
          "metadata": {
            "tags": []
          },
          "execution_count": 117
        }
      ]
    },
    {
      "cell_type": "code",
      "metadata": {
        "id": "St4si9wU7dLf",
        "colab_type": "code",
        "outputId": "eda60964-5e68-417a-8b4a-9d98b946d5a7",
        "colab": {
          "base_uri": "https://localhost:8080/",
          "height": 34
        }
      },
      "source": [
        "mean_squared_error(y_test, DTR.predict(X_test))"
      ],
      "execution_count": 118,
      "outputs": [
        {
          "output_type": "execute_result",
          "data": {
            "text/plain": [
              "0.33641762341160325"
            ]
          },
          "metadata": {
            "tags": []
          },
          "execution_count": 118
        }
      ]
    },
    {
      "cell_type": "code",
      "metadata": {
        "id": "WnF9dXlf7frr",
        "colab_type": "code",
        "outputId": "bd5a892b-2376-4a5d-b9e6-6f672730079b",
        "colab": {
          "base_uri": "https://localhost:8080/",
          "height": 34
        }
      },
      "source": [
        "mean_absolute_error(y_test, DTR.predict(X_test))"
      ],
      "execution_count": 119,
      "outputs": [
        {
          "output_type": "execute_result",
          "data": {
            "text/plain": [
              "0.33045526160697286"
            ]
          },
          "metadata": {
            "tags": []
          },
          "execution_count": 119
        }
      ]
    },
    {
      "cell_type": "code",
      "metadata": {
        "id": "VjZw1NLz7mmp",
        "colab_type": "code",
        "outputId": "15855c2c-5a39-48a3-ff63-66579fcbcb61",
        "colab": {
          "base_uri": "https://localhost:8080/",
          "height": 34
        }
      },
      "source": [
        "r2_score(y_test, DTR.predict(X_test))"
      ],
      "execution_count": 120,
      "outputs": [
        {
          "output_type": "execute_result",
          "data": {
            "text/plain": [
              "0.6234674279118685"
            ]
          },
          "metadata": {
            "tags": []
          },
          "execution_count": 120
        }
      ]
    }
  ]
}