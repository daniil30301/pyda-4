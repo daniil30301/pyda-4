{
 "cells": [
  {
   "cell_type": "code",
   "execution_count": 1,
   "metadata": {},
   "outputs": [],
   "source": [
    "import numpy as np\n",
    "import pandas as pd"
   ]
  },
  {
   "cell_type": "code",
   "execution_count": 2,
   "metadata": {},
   "outputs": [],
   "source": [
    "power = pd.read_csv('C:/Users/karpo/Desktop/Презентации аналитика/python/Python_5_pandas/power.csv')"
   ]
  },
  {
   "cell_type": "code",
   "execution_count": 3,
   "metadata": {},
   "outputs": [
    {
     "data": {
      "text/html": [
       "<div>\n",
       "<style scoped>\n",
       "    .dataframe tbody tr th:only-of-type {\n",
       "        vertical-align: middle;\n",
       "    }\n",
       "\n",
       "    .dataframe tbody tr th {\n",
       "        vertical-align: top;\n",
       "    }\n",
       "\n",
       "    .dataframe thead th {\n",
       "        text-align: right;\n",
       "    }\n",
       "</style>\n",
       "<table border=\"1\" class=\"dataframe\">\n",
       "  <thead>\n",
       "    <tr style=\"text-align: right;\">\n",
       "      <th></th>\n",
       "      <th>country</th>\n",
       "      <th>year</th>\n",
       "      <th>quantity</th>\n",
       "      <th>category</th>\n",
       "    </tr>\n",
       "  </thead>\n",
       "  <tbody>\n",
       "    <tr>\n",
       "      <th>0</th>\n",
       "      <td>Austria</td>\n",
       "      <td>1996</td>\n",
       "      <td>5.0</td>\n",
       "      <td>1</td>\n",
       "    </tr>\n",
       "    <tr>\n",
       "      <th>1</th>\n",
       "      <td>Austria</td>\n",
       "      <td>1995</td>\n",
       "      <td>17.0</td>\n",
       "      <td>1</td>\n",
       "    </tr>\n",
       "    <tr>\n",
       "      <th>2</th>\n",
       "      <td>Belgium</td>\n",
       "      <td>2014</td>\n",
       "      <td>0.0</td>\n",
       "      <td>1</td>\n",
       "    </tr>\n",
       "    <tr>\n",
       "      <th>3</th>\n",
       "      <td>Belgium</td>\n",
       "      <td>2013</td>\n",
       "      <td>0.0</td>\n",
       "      <td>1</td>\n",
       "    </tr>\n",
       "    <tr>\n",
       "      <th>4</th>\n",
       "      <td>Belgium</td>\n",
       "      <td>2012</td>\n",
       "      <td>35.0</td>\n",
       "      <td>1</td>\n",
       "    </tr>\n",
       "  </tbody>\n",
       "</table>\n",
       "</div>"
      ],
      "text/plain": [
       "   country  year  quantity  category\n",
       "0  Austria  1996       5.0         1\n",
       "1  Austria  1995      17.0         1\n",
       "2  Belgium  2014       0.0         1\n",
       "3  Belgium  2013       0.0         1\n",
       "4  Belgium  2012      35.0         1"
      ]
     },
     "execution_count": 3,
     "metadata": {},
     "output_type": "execute_result"
    }
   ],
   "source": [
    "power.head()"
   ]
  },
  {
   "cell_type": "code",
   "execution_count": 4,
   "metadata": {},
   "outputs": [
    {
     "data": {
      "text/plain": [
       "array(['Romania', 'Lithuania', 'T.F.Yug.Rep. Macedonia', 'Armenia',\n",
       "       'Estonia', 'Mauritania', 'New Caledonia', 'Slovenia',\n",
       "       'United Rep. of Tanzania', 'Albania', 'Bosnia and Herzegovina'],\n",
       "      dtype=object)"
      ]
     },
     "execution_count": 4,
     "metadata": {},
     "output_type": "execute_result"
    }
   ],
   "source": [
    "power[power['country'].str.contains('nia', case=False) ]['country'].unique()"
   ]
  },
  {
   "cell_type": "code",
   "execution_count": 5,
   "metadata": {},
   "outputs": [
    {
     "data": {
      "text/plain": [
       "240481.0"
      ]
     },
     "execution_count": 5,
     "metadata": {},
     "output_type": "execute_result"
    }
   ],
   "source": [
    "baltika = power[(power['country']=='Lithuania') | (power['country']=='Estonia') | (power['country']=='Latvia')]\n",
    "baltika_category_4 = baltika[(baltika['category']==4)]\n",
    "baltika_category_4_year_2005 = baltika_category_4[(baltika_category_4['year'] == 2005)]\n",
    "baltika_category_4_year_2006 = baltika_category_4[(baltika_category_4['year'] == 2006)]\n",
    "baltika_category_4_year_2007 = baltika_category_4[(baltika_category_4['year'] == 2007)]\n",
    "baltika_category_4_year_2008 = baltika_category_4[(baltika_category_4['year'] == 2008)]\n",
    "baltika_category_4_year_2009 = baltika_category_4[(baltika_category_4['year'] == 2009)]\n",
    "baltika_category_4_year_2010 = baltika_category_4[(baltika_category_4['year'] == 2010)]\n",
    "\n",
    "baltika_category_12 = baltika[(baltika['category']==12)]\n",
    "baltika_category_12_year_2005 = baltika_category_12[(baltika_category_12['year']==2005)]\n",
    "baltika_category_12_year_2006 = baltika_category_12[(baltika_category_12['year']==2006)]\n",
    "baltika_category_12_year_2007 = baltika_category_12[(baltika_category_12['year']==2007)]\n",
    "baltika_category_12_year_2008 = baltika_category_12[(baltika_category_12['year']==2008)]\n",
    "baltika_category_12_year_2009 = baltika_category_12[(baltika_category_12['year']==2009)]\n",
    "baltika_category_12_year_2010 = baltika_category_12[(baltika_category_12['year']==2010)]\n",
    "\n",
    "baltika_category_21 = baltika[(baltika['category']==21)]\n",
    "baltika_category_21_year_2005 = baltika_category_21[(baltika_category_21['year']==2005)]\n",
    "baltika_category_21_year_2006 = baltika_category_21[(baltika_category_21['year']==2006)]\n",
    "baltika_category_21_year_2007 = baltika_category_21[(baltika_category_21['year']==2007)]\n",
    "baltika_category_21_year_2008 = baltika_category_21[(baltika_category_21['year']==2008)]\n",
    "baltika_category_21_year_2009 = baltika_category_21[(baltika_category_21['year']==2009)]\n",
    "baltika_category_21_year_2010 = baltika_category_21[(baltika_category_21['year']==2010)]\n",
    "\n",
    "sum(baltika_category_4_year_2005.quantity)+sum(baltika_category_4_year_2006.quantity)+\\\n",
    "sum(baltika_category_4_year_2007.quantity)+sum(baltika_category_4_year_2008.quantity)+\\\n",
    "sum(baltika_category_4_year_2009.quantity)+sum(baltika_category_4_year_2010.quantity)+\\\n",
    "sum(baltika_category_12_year_2005.quantity)+sum(baltika_category_12_year_2006.quantity)+\\\n",
    "sum(baltika_category_12_year_2007.quantity)+sum(baltika_category_12_year_2008.quantity)+\\\n",
    "sum(baltika_category_12_year_2009.quantity)+sum(baltika_category_12_year_2010.quantity)+\\\n",
    "sum(baltika_category_21_year_2005.quantity)+sum(baltika_category_21_year_2006.quantity)+\\\n",
    "sum(baltika_category_21_year_2007.quantity)+sum(baltika_category_21_year_2008.quantity)+\\\n",
    "sum(baltika_category_21_year_2009.quantity)+sum(baltika_category_21_year_2010.quantity)"
   ]
  }
 ],
 "metadata": {
  "kernelspec": {
   "display_name": "Python 3",
   "language": "python",
   "name": "python3"
  },
  "language_info": {
   "codemirror_mode": {
    "name": "ipython",
    "version": 3
   },
   "file_extension": ".py",
   "mimetype": "text/x-python",
   "name": "python",
   "nbconvert_exporter": "python",
   "pygments_lexer": "ipython3",
   "version": "3.7.3"
  }
 },
 "nbformat": 4,
 "nbformat_minor": 2
}
