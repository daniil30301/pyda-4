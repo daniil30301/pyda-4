{
 "cells": [
  {
   "cell_type": "code",
   "execution_count": 1,
   "metadata": {},
   "outputs": [],
   "source": [
    "from datetime import datetime\n",
    "from datetime import timedelta"
   ]
  },
  {
   "cell_type": "code",
   "execution_count": 2,
   "metadata": {},
   "outputs": [],
   "source": [
    "def date_range(start_date, end_date):\n",
    "\n",
    "    start_date_d = datetime.strptime(start_date, '%Y.%m.%d')\n",
    "    end_date_d = datetime.strptime(end_date, '%Y.%m.%d')\n",
    "    \n",
    "    while start_date_d <= end_date_d:\n",
    "        print(start_date_d.strftime('%Y.%m.%d'))\n",
    "        \n",
    "        start_date_d += timedelta(days=1)"
   ]
  },
  {
   "cell_type": "code",
   "execution_count": 3,
   "metadata": {},
   "outputs": [
    {
     "name": "stdout",
     "output_type": "stream",
     "text": [
      "2019.01.01\n",
      "2019.01.02\n",
      "2019.01.03\n",
      "2019.01.04\n"
     ]
    }
   ],
   "source": [
    "date_range('2019.01.01', '2019.01.04')"
   ]
  }
 ],
 "metadata": {
  "kernelspec": {
   "display_name": "Python 3",
   "language": "python",
   "name": "python3"
  },
  "language_info": {
   "codemirror_mode": {
    "name": "ipython",
    "version": 3
   },
   "file_extension": ".py",
   "mimetype": "text/x-python",
   "name": "python",
   "nbconvert_exporter": "python",
   "pygments_lexer": "ipython3",
   "version": "3.7.3"
  }
 },
 "nbformat": 4,
 "nbformat_minor": 2
}
