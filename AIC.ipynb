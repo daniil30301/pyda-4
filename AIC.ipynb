{
 "cells": [
  {
   "cell_type": "code",
   "execution_count": 32,
   "metadata": {},
   "outputs": [],
   "source": [
    "import pandas as pd\n",
    "import numpy as np\n",
    "import matplotlib.pyplot as plt\n",
    "import scipy.stats as sts\n",
    "import statistics\n",
    "from sklearn import preprocessing\n",
    "import seaborn as sns"
   ]
  },
  {
   "cell_type": "code",
   "execution_count": 33,
   "metadata": {},
   "outputs": [],
   "source": [
    "data = pd.read_csv('C:/Users/danii/OneDrive/Презентации аналитика/работа в команде/Data Sample (AIC-1) - Online Retail.csv')"
   ]
  },
  {
   "cell_type": "code",
   "execution_count": 34,
   "metadata": {},
   "outputs": [
    {
     "data": {
      "text/plain": [
       "\"Привести столбец ['UnitPrice'] к типу float.Разбить товар по категориям и пометить результаты (цены) в список.\""
      ]
     },
     "execution_count": 34,
     "metadata": {},
     "output_type": "execute_result"
    }
   ],
   "source": [
    "data['UnitPrice'] = [x.replace(',', '.') for x in data['UnitPrice']]\n",
    "data['UnitPrice'] = pd.to_numeric(data.UnitPrice, downcast = 'float')\n",
    "\n",
    "low_p = []\n",
    "medium_p = []\n",
    "hight_p = []\n",
    "\n",
    "for x in data['UnitPrice']:\n",
    "    if x < 50:\n",
    "        low_p.append(x)\n",
    "    if 50 < x < 300:\n",
    "        medium_p.append(x)\n",
    "    if x > 300:\n",
    "        hight_p.append(x)\n",
    "        \n",
    "'''\\\n",
    "Привести столбец ['UnitPrice'] к типу float.\\\n",
    "Разбить товар по категориям и пометить результаты (цены) в список.\\\n",
    "'''\n",
    "    "
   ]
  },
  {
   "cell_type": "code",
   "execution_count": 35,
   "metadata": {},
   "outputs": [],
   "source": [
    "def PriceType (row):\n",
    "    if row['UnitPrice'] in low_p:\n",
    "            return 'low'\n",
    "    if row['UnitPrice'] in medium_p:\n",
    "            return 'medium'\n",
    "    if row['UnitPrice'] in hight_p:\n",
    "            return 'high'"
   ]
  },
  {
   "cell_type": "code",
   "execution_count": 36,
   "metadata": {},
   "outputs": [
    {
     "data": {
      "text/plain": [
       "'Добавить новый столбец и присвоить категорию стоимости товара (эконом, средней ценовой категории и дорогой).'"
      ]
     },
     "execution_count": 36,
     "metadata": {},
     "output_type": "execute_result"
    }
   ],
   "source": [
    "data['PriceClass'] = data.apply(PriceType, axis = 1)\n",
    "'''\\\n",
    "Добавить новый столбец и присвоить категорию стоимости товара (эконом, средней ценовой категории и дорогой).\\\n",
    "'''"
   ]
  },
  {
   "cell_type": "code",
   "execution_count": 37,
   "metadata": {},
   "outputs": [
    {
     "data": {
      "text/plain": [
       "'Вывести на график сумму покупок товаров по категориям.'"
      ]
     },
     "execution_count": 37,
     "metadata": {},
     "output_type": "execute_result"
    },
    {
     "data": {
      "image/png": "[encoded data removed]",
      "text/plain": [
       "<Figure size 432x288 with 1 Axes>"
      ]
     },
     "metadata": {
      "needs_background": "light"
     },
     "output_type": "display_data"
    }
   ],
   "source": [
    "data_Price = data.filter(items = ['UnitPrice', 'PriceClass'])\n",
    "data_Price.groupby('PriceClass').sum().plot(kind = 'bar', color = 'rgb', title = 'SumPriceType')\n",
    "\n",
    "'''\\\n",
    "Вывести на график сумму покупок товаров по категориям.\\\n",
    "'''"
   ]
  },
  {
   "cell_type": "code",
   "execution_count": 38,
   "metadata": {},
   "outputs": [
    {
     "data": {
      "text/html": [
       "<div>\n",
       "<style scoped>\n",
       "    .dataframe tbody tr th:only-of-type {\n",
       "        vertical-align: middle;\n",
       "    }\n",
       "\n",
       "    .dataframe tbody tr th {\n",
       "        vertical-align: top;\n",
       "    }\n",
       "\n",
       "    .dataframe thead th {\n",
       "        text-align: right;\n",
       "    }\n",
       "</style>\n",
       "<table border=\"1\" class=\"dataframe\">\n",
       "  <thead>\n",
       "    <tr style=\"text-align: right;\">\n",
       "      <th></th>\n",
       "      <th>UnitPrice</th>\n",
       "    </tr>\n",
       "    <tr>\n",
       "      <th>PriceClass</th>\n",
       "      <th></th>\n",
       "    </tr>\n",
       "  </thead>\n",
       "  <tbody>\n",
       "    <tr>\n",
       "      <th>high</th>\n",
       "      <td>39918.359375</td>\n",
       "    </tr>\n",
       "    <tr>\n",
       "      <th>low</th>\n",
       "      <td>176475.015625</td>\n",
       "    </tr>\n",
       "    <tr>\n",
       "      <th>medium</th>\n",
       "      <td>16374.809570</td>\n",
       "    </tr>\n",
       "  </tbody>\n",
       "</table>\n",
       "</div>"
      ],
      "text/plain": [
       "                UnitPrice\n",
       "PriceClass               \n",
       "high         39918.359375\n",
       "low         176475.015625\n",
       "medium       16374.809570"
      ]
     },
     "execution_count": 38,
     "metadata": {},
     "output_type": "execute_result"
    }
   ],
   "source": [
    "data_Price.groupby('PriceClass').sum()"
   ]
  },
  {
   "cell_type": "code",
   "execution_count": 39,
   "metadata": {},
   "outputs": [
    {
     "data": {
      "text/plain": [
       "'Количество товаров в абсолютном знечении, купленном клиентами по категориям.'"
      ]
     },
     "execution_count": 39,
     "metadata": {},
     "output_type": "execute_result"
    },
    {
     "data": {
      "image/png": "[encoded data removed]",
      "text/plain": [
       "<Figure size 432x288 with 1 Axes>"
      ]
     },
     "metadata": {
      "needs_background": "light"
     },
     "output_type": "display_data"
    }
   ],
   "source": [
    "data_Class_Quantity = data.filter(items = ['Quantity', 'PriceClass'])\n",
    "data_Class_Quantity.groupby('PriceClass').count().plot(kind = 'bar', color = 'rgb', title = 'CountPriceType')\n",
    "\n",
    "'''\\\n",
    "Количество товаров в абсолютном знечении, купленном клиентами по категориям.\\\n",
    "'''"
   ]
  },
  {
   "cell_type": "code",
   "execution_count": 40,
   "metadata": {},
   "outputs": [
    {
     "data": {
      "text/html": [
       "<div>\n",
       "<style scoped>\n",
       "    .dataframe tbody tr th:only-of-type {\n",
       "        vertical-align: middle;\n",
       "    }\n",
       "\n",
       "    .dataframe tbody tr th {\n",
       "        vertical-align: top;\n",
       "    }\n",
       "\n",
       "    .dataframe thead th {\n",
       "        text-align: right;\n",
       "    }\n",
       "</style>\n",
       "<table border=\"1\" class=\"dataframe\">\n",
       "  <thead>\n",
       "    <tr style=\"text-align: right;\">\n",
       "      <th></th>\n",
       "      <th>Quantity</th>\n",
       "    </tr>\n",
       "    <tr>\n",
       "      <th>PriceClass</th>\n",
       "      <th></th>\n",
       "    </tr>\n",
       "  </thead>\n",
       "  <tbody>\n",
       "    <tr>\n",
       "      <th>high</th>\n",
       "      <td>38</td>\n",
       "    </tr>\n",
       "    <tr>\n",
       "      <th>low</th>\n",
       "      <td>54049</td>\n",
       "    </tr>\n",
       "    <tr>\n",
       "      <th>medium</th>\n",
       "      <td>112</td>\n",
       "    </tr>\n",
       "  </tbody>\n",
       "</table>\n",
       "</div>"
      ],
      "text/plain": [
       "            Quantity\n",
       "PriceClass          \n",
       "high              38\n",
       "low            54049\n",
       "medium           112"
      ]
     },
     "execution_count": 40,
     "metadata": {},
     "output_type": "execute_result"
    }
   ],
   "source": [
    "data_Class_Quantity.groupby('PriceClass').count()"
   ]
  },
  {
   "cell_type": "code",
   "execution_count": 41,
   "metadata": {},
   "outputs": [
    {
     "data": {
      "text/plain": [
       "'Посчитать количество клиентов, совершивших покупку более одного раза, и клиентов, купивших товар один раз.'"
      ]
     },
     "execution_count": 41,
     "metadata": {},
     "output_type": "execute_result"
    }
   ],
   "source": [
    "data_Customer = data.filter(items = ['InvoiceNo', 'CustomerID'])\n",
    "data_group_Customer = data_Customer.groupby('CustomerID').count()\n",
    "RegularCustomer = data_group_Customer[data_group_Customer['InvoiceNo'] > 1].count()\n",
    "OtherCustomer = data_group_Customer[data_group_Customer['InvoiceNo'] == 1].count()\n",
    "\n",
    "'''\\\n",
    "Посчитать количество клиентов, совершивших покупку более одного раза, и клиентов, купивших товар один раз.\\\n",
    "'''"
   ]
  },
  {
   "cell_type": "code",
   "execution_count": 42,
   "metadata": {},
   "outputs": [
    {
     "name": "stdout",
     "output_type": "stream",
     "text": [
      "InvoiceNo    3243\n",
      "dtype: int64\n",
      "InvoiceNo    576\n",
      "dtype: int64\n"
     ]
    },
    {
     "data": {
      "text/plain": [
       "84"
      ]
     },
     "execution_count": 42,
     "metadata": {},
     "output_type": "execute_result"
    }
   ],
   "source": [
    "print(RegularCustomer)\n",
    "print(OtherCustomer)\n",
    "3243*100//3819 #Поцент вернувшихся"
   ]
  },
  {
   "cell_type": "code",
   "execution_count": 43,
   "metadata": {},
   "outputs": [
    {
     "name": "stdout",
     "output_type": "stream",
     "text": [
      "1.0000958893314058\n"
     ]
    },
    {
     "data": {
      "text/plain": [
       "'Revenue в млн.'"
      ]
     },
     "execution_count": 43,
     "metadata": {},
     "output_type": "execute_result"
    }
   ],
   "source": [
    "print(sum(data['UnitPrice']*data['Quantity'])/1000000)\n",
    "'''\\\n",
    "Revenue в млн.\\\n",
    "'''"
   ]
  },
  {
   "cell_type": "code",
   "execution_count": 44,
   "metadata": {},
   "outputs": [
    {
     "name": "stdout",
     "output_type": "stream",
     "text": [
      "6930.0\n"
     ]
    },
    {
     "data": {
      "text/plain": [
       "'Максимальная стоимость товара больше минимальной в 6390.'"
      ]
     },
     "execution_count": 44,
     "metadata": {},
     "output_type": "execute_result"
    }
   ],
   "source": [
    "print(data['UnitPrice'].max()-data['UnitPrice'].min())\n",
    "\n",
    "'''\\\n",
    "Максимальная стоимость товара больше минимальной в 6390.\\\n",
    "'''"
   ]
  }
 ],
 "metadata": {
  "kernelspec": {
   "display_name": "Python 3",
   "language": "python",
   "name": "python3"
  },
  "language_info": {
   "codemirror_mode": {
    "name": "ipython",
    "version": 3
   },
   "file_extension": ".py",
   "mimetype": "text/x-python",
   "name": "python",
   "nbconvert_exporter": "python",
   "pygments_lexer": "ipython3",
   "version": "3.7.3"
  }
 },
 "nbformat": 4,
 "nbformat_minor": 2
}
