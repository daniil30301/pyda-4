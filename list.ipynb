{
 "cells": [
  {
   "cell_type": "code",
   "execution_count": 105,
   "metadata": {},
   "outputs": [
    {
     "name": "stdout",
     "output_type": "stream",
     "text": [
      "Dont`t panic!\n",
      "['D', 'o', 'n', 't', '`', 't', ' ', 'p', 'a', 'n', 'i', 'c', '!']\n"
     ]
    }
   ],
   "source": [
    "phrase = 'Dont`t panic!'\n",
    "plist = list(phrase) # list преобразует строку в список\n",
    "print(phrase)\n",
    "print(plist)"
   ]
  },
  {
   "cell_type": "code",
   "execution_count": 108,
   "metadata": {},
   "outputs": [
    {
     "name": "stdout",
     "output_type": "stream",
     "text": [
      "['o', 'n', 't', 't', 'p', 'a', 'n']\n"
     ]
    }
   ],
   "source": [
    "dont_panic = ['o', 'n', 't', 'a', 'p']\n",
    "for word in plist:\n",
    "    if word not in dont_panic:\n",
    "        plist.remove(word) # из списка удаляется буква\n",
    "print(plist)"
   ]
  },
  {
   "cell_type": "code",
   "execution_count": 109,
   "metadata": {},
   "outputs": [
    {
     "name": "stdout",
     "output_type": "stream",
     "text": [
      "['t', 'o', 'a', 'n', 'p']\n"
     ]
    }
   ],
   "source": [
    "plist.remove('n') #\n",
    "plist.remove('t')\n",
    "plist.extend([plist.pop(2),plist.pop(0)]) # в конец списка добавляются удаленные по указанному индексу буквы\n",
    "plist.insert(1, plist.pop()) # перед значением с индексом \"1\" вставляется удаленное в конце списка значение\n",
    "print(plist)"
   ]
  },
  {
   "cell_type": "code",
   "execution_count": 110,
   "metadata": {},
   "outputs": [
    {
     "name": "stdout",
     "output_type": "stream",
     "text": [
      "['t', 'o', 'a', 'n', 'p']\n",
      "toanp\n"
     ]
    }
   ],
   "source": [
    "new_phrase = ''.join(plist) # преобразование списка в строку\n",
    "print(plist)\n",
    "print(new_phrase)"
   ]
  }
 ],
 "metadata": {
  "kernelspec": {
   "display_name": "Python 3",
   "language": "python",
   "name": "python3"
  },
  "language_info": {
   "codemirror_mode": {
    "name": "ipython",
    "version": 3
   },
   "file_extension": ".py",
   "mimetype": "text/x-python",
   "name": "python",
   "nbconvert_exporter": "python",
   "pygments_lexer": "ipython3",
   "version": "3.7.3"
  }
 },
 "nbformat": 4,
 "nbformat_minor": 2
}
